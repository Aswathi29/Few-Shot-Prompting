{
 "cells": [
  {
   "cell_type": "code",
   "execution_count": 1,
   "metadata": {},
   "outputs": [],
   "source": [
    "import os\n",
    "from langchain.llms import OpenAI\n",
    "from langchain.chat_models import ChatOpenAI\n",
    "import warnings\n",
    "warnings.filterwarnings(\"ignore\")\n",
    "\n"
   ]
  },
  {
   "cell_type": "code",
   "execution_count": 2,
   "metadata": {},
   "outputs": [],
   "source": [
    "with open('openai_api_key.txt', 'r') as f:\n",
    "    os.environ['OPENAI_API_KEY'] = f.read()\n",
    "    \n",
    "llm = OpenAI()\n",
    "chat = ChatOpenAI()"
   ]
  },
  {
   "cell_type": "code",
   "execution_count": 4,
   "metadata": {},
   "outputs": [],
   "source": [
    "\n",
    "from langchain.schema import SystemMessage, HumanMessage, AIMessage"
   ]
  },
  {
   "cell_type": "code",
   "execution_count": 5,
   "metadata": {},
   "outputs": [],
   "source": [
    "system_message = \"You are a character from the Book 'The Importance of Being Earnest' \"\n",
    "\n",
    "Jack_dialogue1 = \"Why on earth did you bring a ladder?\"\n",
    "sample_Algy_response1 = \"Because I heard the tea was high!\"\n",
    "\n",
    "Jack_dialogue2 = \"why don’t secrets ever play hide and seek?\"\n",
    "sample_Algy_response2 = \" Because good luck hiding from someone who is always looking for you!\"\n",
    "\n",
    "Jack_dialogue3 = \" Why did the scarecrow win an award?\"\n",
    "sample_Algy_response3 = \"Because he was outstanding in his field!\""
   ]
  },
  {
   "cell_type": "code",
   "execution_count": 6,
   "metadata": {},
   "outputs": [],
   "source": [
    "messages = [\n",
    "    SystemMessage(content=system_message),\n",
    "    \n",
    "    HumanMessage(content=Jack_dialogue1),\n",
    "    AIMessage(sample_Algy_response1),\n",
    "    \n",
    "    HumanMessage(content=Jack_dialogue2),\n",
    "    AIMessage(sample_Algy_response2),\n",
    "    \n",
    "    HumanMessage(content=Jack_dialogue3),\n",
    "    AIMessage(sample_Algy_response3),\n",
    "    \n",
    "    HumanMessage(content=' I am in love with Gwendolen. I have come up to town expressly to propose to her')\n",
    "]"
   ]
  },
  {
   "cell_type": "code",
   "execution_count": 7,
   "metadata": {},
   "outputs": [
    {
     "name": "stdout",
     "output_type": "stream",
     "text": [
      "Ah, dear Algernon, love can be a complicated matter, especially when it comes to proposing. I wish you all the best in your endeavors with Gwendolen. Remember, honesty is always the best policy!\n"
     ]
    }
   ],
   "source": [
    "response = chat(messages=messages)\n",
    "\n",
    "print(response.content)"
   ]
  },
  {
   "cell_type": "code",
   "execution_count": null,
   "metadata": {},
   "outputs": [],
   "source": []
  }
 ],
 "metadata": {
  "kernelspec": {
   "display_name": "Python 3.10.11 ('langchainworkspace': venv)",
   "language": "python",
   "name": "python3"
  },
  "language_info": {
   "codemirror_mode": {
    "name": "ipython",
    "version": 3
   },
   "file_extension": ".py",
   "mimetype": "text/x-python",
   "name": "python",
   "nbconvert_exporter": "python",
   "pygments_lexer": "ipython3",
   "version": "3.10.11"
  },
  "orig_nbformat": 4,
  "vscode": {
   "interpreter": {
    "hash": "6d4dfa250cd0a8c02343436c862c9cbefdf568de85e2ceb4ea570bf7676b74db"
   }
  }
 },
 "nbformat": 4,
 "nbformat_minor": 2
}
